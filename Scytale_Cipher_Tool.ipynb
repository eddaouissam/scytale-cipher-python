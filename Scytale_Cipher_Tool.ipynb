{
 "cells": [
  {
   "cell_type": "code",
   "execution_count": 1,
   "id": "4ab741b6",
   "metadata": {},
   "outputs": [
    {
     "name": "stdout",
     "output_type": "stream",
     "text": [
      "Enter the message to encrypt: issam eddaou\n",
      "Enter the scytale diameter: 5\n",
      "Encrypted Message: i oseusd ad ma\n",
      "Decrypted Message: issam eddaou\n"
     ]
    }
   ],
   "source": [
    "def scytale_encrypt(message, diameter):\n",
    "    if not isinstance(message, str):\n",
    "        raise TypeError(\"The message must be a string.\")\n",
    "    if not isinstance(diameter, int) or diameter <= 0:\n",
    "        raise ValueError(\"The diameter must be a positive integer.\")\n",
    "\n",
    "    num_columns = -(-len(message) // diameter)  # Ceiling division to ensure the last column is included\n",
    "\n",
    "    # Padding the message with spaces if necessary\n",
    "    message += ' ' * (num_columns * diameter - len(message))\n",
    "\n",
    "    encrypted_message = \"\"\n",
    "    for i in range(diameter):\n",
    "        encrypted_message += message[i::diameter]\n",
    "\n",
    "    return encrypted_message.strip()\n",
    "\n",
    "\n",
    "def scytale_decrypt(encrypted_message, diameter):\n",
    "    if not isinstance(encrypted_message, str):\n",
    "        raise TypeError(\"The encrypted message must be a string.\")\n",
    "    if not isinstance(diameter, int) or diameter <= 0:\n",
    "        raise ValueError(\"The diameter must be a positive integer.\")\n",
    "\n",
    "    num_columns = -(-len(encrypted_message) // diameter)  # Ceiling division to ensure the last column is included\n",
    "\n",
    "    decrypted_message = \"\"\n",
    "    for i in range(num_columns):\n",
    "        decrypted_message += encrypted_message[i::num_columns]\n",
    "\n",
    "    return decrypted_message.strip()\n",
    "\n",
    "\n",
    "# User input\n",
    "message = input(\"Enter the message to encrypt: \")\n",
    "diameter = int(input(\"Enter the scytale diameter: \"))\n",
    "\n",
    "try:\n",
    "    # Encryption\n",
    "    encrypted_message = scytale_encrypt(message, diameter)\n",
    "    print(\"Encrypted Message:\", encrypted_message)\n",
    "\n",
    "    # Decryption\n",
    "    decrypted_message = scytale_decrypt(encrypted_message, diameter)\n",
    "    print(\"Decrypted Message:\", decrypted_message)\n",
    "\n",
    "except (TypeError, ValueError) as e:\n",
    "    print(\"Error:\", str(e))"
   ]
  },
  {
   "cell_type": "code",
   "execution_count": null,
   "id": "89f60522",
   "metadata": {},
   "outputs": [],
   "source": []
  }
 ],
 "metadata": {
  "kernelspec": {
   "display_name": "Python 3 (ipykernel)",
   "language": "python",
   "name": "python3"
  },
  "language_info": {
   "codemirror_mode": {
    "name": "ipython",
    "version": 3
   },
   "file_extension": ".py",
   "mimetype": "text/x-python",
   "name": "python",
   "nbconvert_exporter": "python",
   "pygments_lexer": "ipython3",
   "version": "3.9.7"
  }
 },
 "nbformat": 4,
 "nbformat_minor": 5
}
